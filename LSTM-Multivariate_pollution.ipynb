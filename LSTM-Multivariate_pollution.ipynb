{
 "cells": [
  {
   "cell_type": "markdown",
   "id": "d6330cd0",
   "metadata": {},
   "source": [
    "## RNN by LSTM"
   ]
  },
  {
   "cell_type": "code",
   "execution_count": 25,
   "id": "c19c8445",
   "metadata": {},
   "outputs": [],
   "source": [
    "import pandas as pd\n",
    "import numpy as np\n",
    "from sklearn.preprocessing import MinMaxScaler\n",
    "from tensorflow.keras.models import Sequential\n",
    "from tensorflow.keras.layers import LSTM, Dense, Dropout\n",
    "from tensorflow.keras.callbacks import EarlyStopping\n",
    "from sklearn.model_selection import train_test_split\n",
    "from sklearn.metrics import mean_squared_error\n",
    "import matplotlib.pyplot as plt"
   ]
  },
  {
   "cell_type": "markdown",
   "id": "28fe5a7c",
   "metadata": {},
   "source": [
    "## Data preparation"
   ]
  },
  {
   "cell_type": "code",
   "execution_count": 2,
   "id": "9d02377b",
   "metadata": {},
   "outputs": [],
   "source": [
    "df = pd.read_csv('Air_pollution.csv')"
   ]
  },
  {
   "cell_type": "code",
   "execution_count": 3,
   "id": "ceccb81e",
   "metadata": {},
   "outputs": [
    {
     "data": {
      "text/plain": [
       "(43824, 13)"
      ]
     },
     "execution_count": 3,
     "metadata": {},
     "output_type": "execute_result"
    }
   ],
   "source": [
    "df.shape"
   ]
  },
  {
   "cell_type": "code",
   "execution_count": 4,
   "id": "ff865c8c",
   "metadata": {},
   "outputs": [
    {
     "data": {
      "text/html": [
       "<div>\n",
       "<style scoped>\n",
       "    .dataframe tbody tr th:only-of-type {\n",
       "        vertical-align: middle;\n",
       "    }\n",
       "\n",
       "    .dataframe tbody tr th {\n",
       "        vertical-align: top;\n",
       "    }\n",
       "\n",
       "    .dataframe thead th {\n",
       "        text-align: right;\n",
       "    }\n",
       "</style>\n",
       "<table border=\"1\" class=\"dataframe\">\n",
       "  <thead>\n",
       "    <tr style=\"text-align: right;\">\n",
       "      <th></th>\n",
       "      <th>No</th>\n",
       "      <th>year</th>\n",
       "      <th>month</th>\n",
       "      <th>day</th>\n",
       "      <th>hour</th>\n",
       "      <th>pm2.5</th>\n",
       "      <th>DEWP</th>\n",
       "      <th>TEMP</th>\n",
       "      <th>PRES</th>\n",
       "      <th>cbwd</th>\n",
       "      <th>Iws</th>\n",
       "      <th>Is</th>\n",
       "      <th>Ir</th>\n",
       "    </tr>\n",
       "  </thead>\n",
       "  <tbody>\n",
       "    <tr>\n",
       "      <th>0</th>\n",
       "      <td>1</td>\n",
       "      <td>2010</td>\n",
       "      <td>1</td>\n",
       "      <td>1</td>\n",
       "      <td>0</td>\n",
       "      <td>NaN</td>\n",
       "      <td>-21</td>\n",
       "      <td>-11.0</td>\n",
       "      <td>1021.0</td>\n",
       "      <td>NW</td>\n",
       "      <td>1.79</td>\n",
       "      <td>0</td>\n",
       "      <td>0</td>\n",
       "    </tr>\n",
       "    <tr>\n",
       "      <th>1</th>\n",
       "      <td>2</td>\n",
       "      <td>2010</td>\n",
       "      <td>1</td>\n",
       "      <td>1</td>\n",
       "      <td>1</td>\n",
       "      <td>NaN</td>\n",
       "      <td>-21</td>\n",
       "      <td>-12.0</td>\n",
       "      <td>1020.0</td>\n",
       "      <td>NW</td>\n",
       "      <td>4.92</td>\n",
       "      <td>0</td>\n",
       "      <td>0</td>\n",
       "    </tr>\n",
       "    <tr>\n",
       "      <th>2</th>\n",
       "      <td>3</td>\n",
       "      <td>2010</td>\n",
       "      <td>1</td>\n",
       "      <td>1</td>\n",
       "      <td>2</td>\n",
       "      <td>NaN</td>\n",
       "      <td>-21</td>\n",
       "      <td>-11.0</td>\n",
       "      <td>1019.0</td>\n",
       "      <td>NW</td>\n",
       "      <td>6.71</td>\n",
       "      <td>0</td>\n",
       "      <td>0</td>\n",
       "    </tr>\n",
       "    <tr>\n",
       "      <th>3</th>\n",
       "      <td>4</td>\n",
       "      <td>2010</td>\n",
       "      <td>1</td>\n",
       "      <td>1</td>\n",
       "      <td>3</td>\n",
       "      <td>NaN</td>\n",
       "      <td>-21</td>\n",
       "      <td>-14.0</td>\n",
       "      <td>1019.0</td>\n",
       "      <td>NW</td>\n",
       "      <td>9.84</td>\n",
       "      <td>0</td>\n",
       "      <td>0</td>\n",
       "    </tr>\n",
       "    <tr>\n",
       "      <th>4</th>\n",
       "      <td>5</td>\n",
       "      <td>2010</td>\n",
       "      <td>1</td>\n",
       "      <td>1</td>\n",
       "      <td>4</td>\n",
       "      <td>NaN</td>\n",
       "      <td>-20</td>\n",
       "      <td>-12.0</td>\n",
       "      <td>1018.0</td>\n",
       "      <td>NW</td>\n",
       "      <td>12.97</td>\n",
       "      <td>0</td>\n",
       "      <td>0</td>\n",
       "    </tr>\n",
       "  </tbody>\n",
       "</table>\n",
       "</div>"
      ],
      "text/plain": [
       "   No  year  month  day  hour  pm2.5  DEWP  TEMP    PRES cbwd    Iws  Is  Ir\n",
       "0   1  2010      1    1     0    NaN   -21 -11.0  1021.0   NW   1.79   0   0\n",
       "1   2  2010      1    1     1    NaN   -21 -12.0  1020.0   NW   4.92   0   0\n",
       "2   3  2010      1    1     2    NaN   -21 -11.0  1019.0   NW   6.71   0   0\n",
       "3   4  2010      1    1     3    NaN   -21 -14.0  1019.0   NW   9.84   0   0\n",
       "4   5  2010      1    1     4    NaN   -20 -12.0  1018.0   NW  12.97   0   0"
      ]
     },
     "execution_count": 4,
     "metadata": {},
     "output_type": "execute_result"
    }
   ],
   "source": [
    "df.head()"
   ]
  },
  {
   "cell_type": "code",
   "execution_count": 5,
   "id": "fb3c754a",
   "metadata": {},
   "outputs": [
    {
     "name": "stdout",
     "output_type": "stream",
     "text": [
      "<class 'pandas.core.frame.DataFrame'>\n",
      "RangeIndex: 43824 entries, 0 to 43823\n",
      "Data columns (total 13 columns):\n",
      " #   Column  Non-Null Count  Dtype  \n",
      "---  ------  --------------  -----  \n",
      " 0   No      43824 non-null  int64  \n",
      " 1   year    43824 non-null  int64  \n",
      " 2   month   43824 non-null  int64  \n",
      " 3   day     43824 non-null  int64  \n",
      " 4   hour    43824 non-null  int64  \n",
      " 5   pm2.5   41757 non-null  float64\n",
      " 6   DEWP    43824 non-null  int64  \n",
      " 7   TEMP    43824 non-null  float64\n",
      " 8   PRES    43824 non-null  float64\n",
      " 9   cbwd    43824 non-null  object \n",
      " 10  Iws     43824 non-null  float64\n",
      " 11  Is      43824 non-null  int64  \n",
      " 12  Ir      43824 non-null  int64  \n",
      "dtypes: float64(4), int64(8), object(1)\n",
      "memory usage: 4.3+ MB\n"
     ]
    }
   ],
   "source": [
    "df.info()"
   ]
  },
  {
   "cell_type": "code",
   "execution_count": 6,
   "id": "2d57d5b7",
   "metadata": {
    "scrolled": true
   },
   "outputs": [
    {
     "data": {
      "text/html": [
       "<div>\n",
       "<style scoped>\n",
       "    .dataframe tbody tr th:only-of-type {\n",
       "        vertical-align: middle;\n",
       "    }\n",
       "\n",
       "    .dataframe tbody tr th {\n",
       "        vertical-align: top;\n",
       "    }\n",
       "\n",
       "    .dataframe thead th {\n",
       "        text-align: right;\n",
       "    }\n",
       "</style>\n",
       "<table border=\"1\" class=\"dataframe\">\n",
       "  <thead>\n",
       "    <tr style=\"text-align: right;\">\n",
       "      <th></th>\n",
       "      <th>No</th>\n",
       "      <th>year</th>\n",
       "      <th>month</th>\n",
       "      <th>day</th>\n",
       "      <th>hour</th>\n",
       "      <th>pm2.5</th>\n",
       "      <th>DEWP</th>\n",
       "      <th>TEMP</th>\n",
       "      <th>PRES</th>\n",
       "      <th>Iws</th>\n",
       "      <th>Is</th>\n",
       "      <th>Ir</th>\n",
       "    </tr>\n",
       "  </thead>\n",
       "  <tbody>\n",
       "    <tr>\n",
       "      <th>count</th>\n",
       "      <td>43824.000000</td>\n",
       "      <td>43824.000000</td>\n",
       "      <td>43824.000000</td>\n",
       "      <td>43824.000000</td>\n",
       "      <td>43824.000000</td>\n",
       "      <td>41757.000000</td>\n",
       "      <td>43824.000000</td>\n",
       "      <td>43824.000000</td>\n",
       "      <td>43824.000000</td>\n",
       "      <td>43824.000000</td>\n",
       "      <td>43824.000000</td>\n",
       "      <td>43824.000000</td>\n",
       "    </tr>\n",
       "    <tr>\n",
       "      <th>mean</th>\n",
       "      <td>21912.500000</td>\n",
       "      <td>2012.000000</td>\n",
       "      <td>6.523549</td>\n",
       "      <td>15.727820</td>\n",
       "      <td>11.500000</td>\n",
       "      <td>98.613215</td>\n",
       "      <td>1.817246</td>\n",
       "      <td>12.448521</td>\n",
       "      <td>1016.447654</td>\n",
       "      <td>23.889140</td>\n",
       "      <td>0.052734</td>\n",
       "      <td>0.194916</td>\n",
       "    </tr>\n",
       "    <tr>\n",
       "      <th>std</th>\n",
       "      <td>12651.043435</td>\n",
       "      <td>1.413842</td>\n",
       "      <td>3.448572</td>\n",
       "      <td>8.799425</td>\n",
       "      <td>6.922266</td>\n",
       "      <td>92.050387</td>\n",
       "      <td>14.433440</td>\n",
       "      <td>12.198613</td>\n",
       "      <td>10.268698</td>\n",
       "      <td>50.010635</td>\n",
       "      <td>0.760375</td>\n",
       "      <td>1.415867</td>\n",
       "    </tr>\n",
       "    <tr>\n",
       "      <th>min</th>\n",
       "      <td>1.000000</td>\n",
       "      <td>2010.000000</td>\n",
       "      <td>1.000000</td>\n",
       "      <td>1.000000</td>\n",
       "      <td>0.000000</td>\n",
       "      <td>0.000000</td>\n",
       "      <td>-40.000000</td>\n",
       "      <td>-19.000000</td>\n",
       "      <td>991.000000</td>\n",
       "      <td>0.450000</td>\n",
       "      <td>0.000000</td>\n",
       "      <td>0.000000</td>\n",
       "    </tr>\n",
       "    <tr>\n",
       "      <th>25%</th>\n",
       "      <td>10956.750000</td>\n",
       "      <td>2011.000000</td>\n",
       "      <td>4.000000</td>\n",
       "      <td>8.000000</td>\n",
       "      <td>5.750000</td>\n",
       "      <td>29.000000</td>\n",
       "      <td>-10.000000</td>\n",
       "      <td>2.000000</td>\n",
       "      <td>1008.000000</td>\n",
       "      <td>1.790000</td>\n",
       "      <td>0.000000</td>\n",
       "      <td>0.000000</td>\n",
       "    </tr>\n",
       "    <tr>\n",
       "      <th>50%</th>\n",
       "      <td>21912.500000</td>\n",
       "      <td>2012.000000</td>\n",
       "      <td>7.000000</td>\n",
       "      <td>16.000000</td>\n",
       "      <td>11.500000</td>\n",
       "      <td>72.000000</td>\n",
       "      <td>2.000000</td>\n",
       "      <td>14.000000</td>\n",
       "      <td>1016.000000</td>\n",
       "      <td>5.370000</td>\n",
       "      <td>0.000000</td>\n",
       "      <td>0.000000</td>\n",
       "    </tr>\n",
       "    <tr>\n",
       "      <th>75%</th>\n",
       "      <td>32868.250000</td>\n",
       "      <td>2013.000000</td>\n",
       "      <td>10.000000</td>\n",
       "      <td>23.000000</td>\n",
       "      <td>17.250000</td>\n",
       "      <td>137.000000</td>\n",
       "      <td>15.000000</td>\n",
       "      <td>23.000000</td>\n",
       "      <td>1025.000000</td>\n",
       "      <td>21.910000</td>\n",
       "      <td>0.000000</td>\n",
       "      <td>0.000000</td>\n",
       "    </tr>\n",
       "    <tr>\n",
       "      <th>max</th>\n",
       "      <td>43824.000000</td>\n",
       "      <td>2014.000000</td>\n",
       "      <td>12.000000</td>\n",
       "      <td>31.000000</td>\n",
       "      <td>23.000000</td>\n",
       "      <td>994.000000</td>\n",
       "      <td>28.000000</td>\n",
       "      <td>42.000000</td>\n",
       "      <td>1046.000000</td>\n",
       "      <td>585.600000</td>\n",
       "      <td>27.000000</td>\n",
       "      <td>36.000000</td>\n",
       "    </tr>\n",
       "  </tbody>\n",
       "</table>\n",
       "</div>"
      ],
      "text/plain": [
       "                 No          year         month           day          hour  \\\n",
       "count  43824.000000  43824.000000  43824.000000  43824.000000  43824.000000   \n",
       "mean   21912.500000   2012.000000      6.523549     15.727820     11.500000   \n",
       "std    12651.043435      1.413842      3.448572      8.799425      6.922266   \n",
       "min        1.000000   2010.000000      1.000000      1.000000      0.000000   \n",
       "25%    10956.750000   2011.000000      4.000000      8.000000      5.750000   \n",
       "50%    21912.500000   2012.000000      7.000000     16.000000     11.500000   \n",
       "75%    32868.250000   2013.000000     10.000000     23.000000     17.250000   \n",
       "max    43824.000000   2014.000000     12.000000     31.000000     23.000000   \n",
       "\n",
       "              pm2.5          DEWP          TEMP          PRES           Iws  \\\n",
       "count  41757.000000  43824.000000  43824.000000  43824.000000  43824.000000   \n",
       "mean      98.613215      1.817246     12.448521   1016.447654     23.889140   \n",
       "std       92.050387     14.433440     12.198613     10.268698     50.010635   \n",
       "min        0.000000    -40.000000    -19.000000    991.000000      0.450000   \n",
       "25%       29.000000    -10.000000      2.000000   1008.000000      1.790000   \n",
       "50%       72.000000      2.000000     14.000000   1016.000000      5.370000   \n",
       "75%      137.000000     15.000000     23.000000   1025.000000     21.910000   \n",
       "max      994.000000     28.000000     42.000000   1046.000000    585.600000   \n",
       "\n",
       "                 Is            Ir  \n",
       "count  43824.000000  43824.000000  \n",
       "mean       0.052734      0.194916  \n",
       "std        0.760375      1.415867  \n",
       "min        0.000000      0.000000  \n",
       "25%        0.000000      0.000000  \n",
       "50%        0.000000      0.000000  \n",
       "75%        0.000000      0.000000  \n",
       "max       27.000000     36.000000  "
      ]
     },
     "execution_count": 6,
     "metadata": {},
     "output_type": "execute_result"
    }
   ],
   "source": [
    "df.describe()"
   ]
  },
  {
   "cell_type": "code",
   "execution_count": 30,
   "id": "0dcea3fb",
   "metadata": {},
   "outputs": [
    {
     "data": {
      "text/plain": [
       "Index(['No', 'year', 'month', 'day', 'hour', 'pm2.5', 'DEWP', 'TEMP', 'PRES',\n",
       "       'cbwd', 'Iws', 'Is', 'Ir'],\n",
       "      dtype='object')"
      ]
     },
     "execution_count": 30,
     "metadata": {},
     "output_type": "execute_result"
    }
   ],
   "source": [
    "df.columns"
   ]
  },
  {
   "cell_type": "markdown",
   "id": "e4626d55",
   "metadata": {},
   "source": [
    "### Normalize the Features"
   ]
  },
  {
   "cell_type": "code",
   "execution_count": 7,
   "id": "08d62189",
   "metadata": {},
   "outputs": [],
   "source": [
    "# Fill missing values\n",
    "df['pm2.5'].fillna(df['pm2.5'].mean(), inplace=True)\n"
   ]
  },
  {
   "cell_type": "code",
   "execution_count": 8,
   "id": "a3ad3219",
   "metadata": {},
   "outputs": [],
   "source": [
    "# Encode categorical data\n",
    "df['cbwd'] = df['cbwd'].astype('category').cat.codes\n"
   ]
  },
  {
   "cell_type": "code",
   "execution_count": 9,
   "id": "6e5a2640",
   "metadata": {},
   "outputs": [],
   "source": [
    "# Select features and target\n",
    "features = df[['year', 'month', 'day', 'hour', 'DEWP', 'TEMP', 'PRES', 'cbwd', 'Iws', 'Is', 'Ir']]\n",
    "target = df['pm2.5']\n"
   ]
  },
  {
   "cell_type": "code",
   "execution_count": 10,
   "id": "9cb13b08",
   "metadata": {},
   "outputs": [],
   "source": [
    "# Normalize the features\n",
    "scaler = MinMaxScaler()\n",
    "scaled_features = scaler.fit_transform(features)\n",
    "\n",
    "# Normalize the target\n",
    "target_scaler = MinMaxScaler()\n",
    "scaled_target = target.values.reshape(-1, 1)\n",
    "scaled_target = target_scaler.fit_transform(scaled_target)\n",
    "\n"
   ]
  },
  {
   "cell_type": "markdown",
   "id": "b30f9a3a",
   "metadata": {},
   "source": [
    "### Prepare Data for LSTM"
   ]
  },
  {
   "cell_type": "code",
   "execution_count": 11,
   "id": "6cafeb00",
   "metadata": {},
   "outputs": [],
   "source": [
    "def create_sequences(data, target, time_steps):\n",
    "    X, y = [], []\n",
    "    for i in range(len(data) - time_steps):\n",
    "        X.append(data[i:i + time_steps])\n",
    "        y.append(target[i + time_steps])\n",
    "    return np.array(X), np.array(y)\n",
    "\n",
    "time_steps = 24  # Example: Use past 24 hours to predict next hour\n",
    "X, y = create_sequences(scaled_features, scaled_target, time_steps)\n"
   ]
  },
  {
   "cell_type": "code",
   "execution_count": 12,
   "id": "1592aef5",
   "metadata": {},
   "outputs": [],
   "source": [
    "# Split the data into training and testing sets (keeping temporal order)\n",
    "split = int(len(X) * 0.8)\n",
    "X_train, X_test = X[:split], X[split:]\n",
    "y_train, y_test = y[:split], y[split:]\n"
   ]
  },
  {
   "cell_type": "code",
   "execution_count": 31,
   "id": "eb7eb962",
   "metadata": {},
   "outputs": [
    {
     "name": "stdout",
     "output_type": "stream",
     "text": [
      "X_train: (35040, 24, 11) \t, X_test: (8760, 24, 11)\n"
     ]
    }
   ],
   "source": [
    "print(f'X_train: {X_train.shape} \\t, X_test: {X_test.shape}')"
   ]
  },
  {
   "cell_type": "markdown",
   "id": "f50b2c46",
   "metadata": {},
   "source": [
    "### Build and Train the LSTM Model"
   ]
  },
  {
   "cell_type": "code",
   "execution_count": 13,
   "id": "46b16485",
   "metadata": {},
   "outputs": [],
   "source": [
    "# Build the LSTM model\n",
    "model = Sequential()\n",
    "model.add(LSTM(50, return_sequences=True, input_shape=(X_train.shape[1], X_train.shape[2])))\n",
    "model.add(Dropout(0.1))\n",
    "model.add(LSTM(50, return_sequences=False))\n",
    "model.add(Dropout(0.1))\n",
    "model.add(Dense(1))\n",
    "\n",
    "model.compile(optimizer='adam', loss='mean_squared_error')\n",
    "\n"
   ]
  },
  {
   "cell_type": "code",
   "execution_count": 14,
   "id": "a9b2047c",
   "metadata": {},
   "outputs": [],
   "source": [
    "# Define early stopping\n",
    "early_stopping = EarlyStopping(monitor='val_loss', patience=10, restore_best_weights=True)\n"
   ]
  },
  {
   "cell_type": "code",
   "execution_count": 15,
   "id": "28e4a432",
   "metadata": {},
   "outputs": [
    {
     "name": "stdout",
     "output_type": "stream",
     "text": [
      "Epoch 1/30\n",
      "369/369 [==============================] - 28s 53ms/step - loss: 0.0065 - val_loss: 0.0048\n",
      "Epoch 2/30\n",
      "369/369 [==============================] - 17s 47ms/step - loss: 0.0051 - val_loss: 0.0042\n",
      "Epoch 3/30\n",
      "369/369 [==============================] - 17s 46ms/step - loss: 0.0048 - val_loss: 0.0043\n",
      "Epoch 4/30\n",
      "369/369 [==============================] - 17s 46ms/step - loss: 0.0046 - val_loss: 0.0050\n",
      "Epoch 5/30\n",
      "369/369 [==============================] - 17s 47ms/step - loss: 0.0044 - val_loss: 0.0046\n",
      "Epoch 6/30\n",
      "369/369 [==============================] - 18s 48ms/step - loss: 0.0043 - val_loss: 0.0036\n",
      "Epoch 7/30\n",
      "369/369 [==============================] - 17s 46ms/step - loss: 0.0041 - val_loss: 0.0041\n",
      "Epoch 8/30\n",
      "369/369 [==============================] - 19s 51ms/step - loss: 0.0040 - val_loss: 0.0036\n",
      "Epoch 9/30\n",
      "369/369 [==============================] - 18s 49ms/step - loss: 0.0040 - val_loss: 0.0039\n",
      "Epoch 10/30\n",
      "369/369 [==============================] - 19s 51ms/step - loss: 0.0038 - val_loss: 0.0035\n",
      "Epoch 11/30\n",
      "369/369 [==============================] - 17s 47ms/step - loss: 0.0037 - val_loss: 0.0037\n",
      "Epoch 12/30\n",
      "369/369 [==============================] - 20s 53ms/step - loss: 0.0036 - val_loss: 0.0035\n",
      "Epoch 13/30\n",
      "369/369 [==============================] - 17s 46ms/step - loss: 0.0035 - val_loss: 0.0047\n",
      "Epoch 14/30\n",
      "369/369 [==============================] - 17s 46ms/step - loss: 0.0035 - val_loss: 0.0037\n",
      "Epoch 15/30\n",
      "369/369 [==============================] - 17s 47ms/step - loss: 0.0035 - val_loss: 0.0036\n",
      "Epoch 16/30\n",
      "369/369 [==============================] - 17s 47ms/step - loss: 0.0033 - val_loss: 0.0034\n",
      "Epoch 17/30\n",
      "369/369 [==============================] - 19s 51ms/step - loss: 0.0033 - val_loss: 0.0035\n",
      "Epoch 18/30\n",
      "369/369 [==============================] - 19s 51ms/step - loss: 0.0032 - val_loss: 0.0039\n",
      "Epoch 19/30\n",
      "369/369 [==============================] - 19s 50ms/step - loss: 0.0032 - val_loss: 0.0035\n",
      "Epoch 20/30\n",
      "369/369 [==============================] - 19s 51ms/step - loss: 0.0032 - val_loss: 0.0042\n",
      "Epoch 21/30\n",
      "369/369 [==============================] - 19s 52ms/step - loss: 0.0030 - val_loss: 0.0039\n",
      "Epoch 22/30\n",
      "369/369 [==============================] - 20s 53ms/step - loss: 0.0029 - val_loss: 0.0039\n",
      "Epoch 23/30\n",
      "369/369 [==============================] - 17s 46ms/step - loss: 0.0029 - val_loss: 0.0039\n",
      "Epoch 24/30\n",
      "369/369 [==============================] - 17s 46ms/step - loss: 0.0028 - val_loss: 0.0040\n",
      "Epoch 25/30\n",
      "369/369 [==============================] - 18s 48ms/step - loss: 0.0028 - val_loss: 0.0035\n",
      "Epoch 26/30\n",
      "369/369 [==============================] - 19s 51ms/step - loss: 0.0027 - val_loss: 0.0030\n",
      "Epoch 27/30\n",
      "369/369 [==============================] - 17s 47ms/step - loss: 0.0026 - val_loss: 0.0035\n",
      "Epoch 28/30\n",
      "369/369 [==============================] - 19s 53ms/step - loss: 0.0025 - val_loss: 0.0036\n",
      "Epoch 29/30\n",
      "369/369 [==============================] - 18s 50ms/step - loss: 0.0025 - val_loss: 0.0043\n",
      "Epoch 30/30\n",
      "369/369 [==============================] - 17s 47ms/step - loss: 0.0024 - val_loss: 0.0034\n"
     ]
    }
   ],
   "source": [
    "# Train the model\n",
    "Hist = model.fit(X_train, y_train, epochs=30, batch_size=76, validation_split=0.2, callbacks=[early_stopping], verbose=1)"
   ]
  },
  {
   "cell_type": "markdown",
   "id": "a04d80bd",
   "metadata": {},
   "source": [
    "### Evaluate and Visualize Results"
   ]
  },
  {
   "cell_type": "code",
   "execution_count": 16,
   "id": "34bdbe83",
   "metadata": {},
   "outputs": [
    {
     "name": "stdout",
     "output_type": "stream",
     "text": [
      "274/274 [==============================] - 4s 14ms/step - loss: 0.0125\n",
      "Test Loss: 0.01245546992868185\n"
     ]
    }
   ],
   "source": [
    "# Evaluate the model\n",
    "loss = model.evaluate(X_test, y_test)\n",
    "print(f'Test Loss: {loss}')\n"
   ]
  },
  {
   "cell_type": "code",
   "execution_count": 17,
   "id": "9857e927",
   "metadata": {},
   "outputs": [
    {
     "name": "stdout",
     "output_type": "stream",
     "text": [
      "274/274 [==============================] - 6s 16ms/step\n"
     ]
    }
   ],
   "source": [
    "# Make predictions\n",
    "y_pred = model.predict(X_test)\n"
   ]
  },
  {
   "cell_type": "code",
   "execution_count": 18,
   "id": "59756d62",
   "metadata": {},
   "outputs": [],
   "source": [
    "# After prediction\n",
    "# Inverse transform predictions and actual values\n",
    "y_test = target_scaler.inverse_transform(y_test)\n",
    "y_pred = target_scaler.inverse_transform(y_pred)\n"
   ]
  },
  {
   "cell_type": "code",
   "execution_count": 24,
   "id": "9cb2854b",
   "metadata": {},
   "outputs": [
    {
     "name": "stdout",
     "output_type": "stream",
     "text": [
      "First 5 Actual Values (after inverse transform):\n",
      " [[24.]\n",
      " [53.]\n",
      " [65.]\n",
      " [70.]\n",
      " [79.]]\n",
      "First 5 Predicted Values (after inverse transform):\n",
      " [[16.99103 ]\n",
      " [17.42737 ]\n",
      " [14.598561]\n",
      " [13.146194]\n",
      " [13.037121]]\n"
     ]
    }
   ],
   "source": [
    "# Print first 5 actual and predicted values after inverse transformation\n",
    "print(\"First 5 Actual Values (after inverse transform):\\n\", y_test[:5])\n",
    "print(\"First 5 Predicted Values (after inverse transform):\\n\", y_pred[:5])\n"
   ]
  },
  {
   "cell_type": "code",
   "execution_count": 20,
   "id": "acab089c",
   "metadata": {},
   "outputs": [
    {
     "name": "stdout",
     "output_type": "stream",
     "text": [
      "Test Mean Squared Error: 12306.449594492551\n"
     ]
    }
   ],
   "source": [
    "# Calculate and print error\n",
    "mse = mean_squared_error(y_test, y_pred)\n",
    "print(f'Test Mean Squared Error: {mse}')\n"
   ]
  },
  {
   "cell_type": "raw",
   "id": "8819db78",
   "metadata": {},
   "source": [
    "## Data review\n",
    "\n",
    "print(\"First 5 Sequences (X_train):\", X_train[:5])\n",
    "print(\"First 5 Targets (y_train):\", y_train[:5])\n"
   ]
  },
  {
   "cell_type": "code",
   "execution_count": 26,
   "id": "85d9523e",
   "metadata": {},
   "outputs": [
    {
     "data": {
      "image/png": "[encoded data removed]",
      "text/plain": [
       "<Figure size 864x432 with 1 Axes>"
      ]
     },
     "metadata": {
      "needs_background": "light"
     },
     "output_type": "display_data"
    }
   ],
   "source": [
    "# Plot the results\n",
    "plt.figure(figsize=(12,6))\n",
    "plt.plot(y_test, color='blue', label='Actual PM2.5')\n",
    "plt.plot(y_pred, color='red', label='Predicted PM2.5')\n",
    "plt.title('PM2.5 Prediction')\n",
    "plt.xlabel('Time')\n",
    "plt.ylabel('PM2.5')\n",
    "plt.legend()\n",
    "plt.show()\n"
   ]
  },
  {
   "cell_type": "markdown",
   "id": "60ef5148",
   "metadata": {},
   "source": [
    "### Plot the Loss\n"
   ]
  },
  {
   "cell_type": "code",
   "execution_count": 28,
   "id": "c1f398ba",
   "metadata": {},
   "outputs": [
    {
     "data": {
      "image/png": "[encoded data removed]",
      "text/plain": [
       "<Figure size 1008x504 with 1 Axes>"
      ]
     },
     "metadata": {
      "needs_background": "light"
     },
     "output_type": "display_data"
    }
   ],
   "source": [
    "plt.figure(figsize=(14, 7))\n",
    "plt.plot(Hist.history['loss'], label='Training Loss')\n",
    "plt.plot(Hist.history['val_loss'], label='Validation Loss')\n",
    "plt.ylabel('Loss')\n",
    "plt.xlabel('Epoch')\n",
    "plt.legend()\n",
    "plt.show()\n"
   ]
  },
  {
   "cell_type": "code",
   "execution_count": null,
   "id": "98406b8d",
   "metadata": {},
   "outputs": [],
   "source": []
  }
 ],
 "metadata": {
  "kernelspec": {
   "display_name": "Python 3 (ipykernel)",
   "language": "python",
   "name": "python3"
  },
  "language_info": {
   "codemirror_mode": {
    "name": "ipython",
    "version": 3
   },
   "file_extension": ".py",
   "mimetype": "text/x-python",
   "name": "python",
   "nbconvert_exporter": "python",
   "pygments_lexer": "ipython3",
   "version": "3.10.9"
  }
 },
 "nbformat": 4,
 "nbformat_minor": 5
}
